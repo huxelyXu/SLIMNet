{
 "cells": [
  {
   "cell_type": "code",
   "execution_count": 1,
   "metadata": {},
   "outputs": [],
   "source": [
    "import pandas as pd\n",
    "from rdkit import Chem\n",
    "from rdkit.Chem import AllChem\n",
    "import re\n",
    "from rdkit.Chem import Draw\n",
    "from rdkit.Chem import MACCSkeys\n",
    "import numpy as np\n",
    "import torch\n",
    "import torch.nn as nn\n",
    "import torch.utils\n",
    "from sklearn.model_selection import train_test_split\n",
    "from torch.optim.lr_scheduler import StepLR\n",
    "import torch.nn.functional as F\n",
    "from tqdm import tqdm\n",
    "import os\n",
    "from sklearn.model_selection import cross_val_score\n",
    "from sklearn.ensemble import RandomForestRegressor\n",
    "from sklearn.preprocessing import StandardScaler\n",
    "from sklearn.pipeline import Pipeline\n",
    "from sklearn.ensemble import RandomForestRegressor\n",
    "from sklearn.decomposition import PCA\n",
    "\n",
    "from sklearn.metrics import mean_squared_error\n",
    "from sklearn.metrics import mean_absolute_error\n",
    "from sklearn.metrics import r2_score\n",
    "from SoftNet import SoftNet, train_SoftNet, GetLoader\n",
    "import matplotlib.pyplot as plt\n",
    "import seaborn as sns\n",
    "from matplotlib.offsetbox import AnchoredText\n",
    "from evaluation import ThreeDEvaluator\n",
    "from run import run\n",
    "from torch.utils.data import Subset\n",
    "import numpy as np"
   ]
  },
  {
   "cell_type": "code",
   "execution_count": 2,
   "metadata": {},
   "outputs": [
    {
     "data": {
      "text/plain": [
       "Data(y=[4], pos=[8, 3], z=[8], natoms=8, monmer_y=[7], chain=[5], order=-1.0069321393966675)"
      ]
     },
     "execution_count": 2,
     "metadata": {},
     "output_type": "execute_result"
    }
   ],
   "source": [
    "data = torch.load('data_polymer_scaled.pt')\n",
    "data[0]"
   ]
  },
  {
   "cell_type": "code",
   "execution_count": 4,
   "metadata": {},
   "outputs": [],
   "source": [
    "#load 使用QM9 预训练后的模型\n",
    "\n",
    "from dig.threedgraph.method import SchNet\n",
    "\n",
    "# Load the dataset and split\n",
    "data = torch.load('/mnt/workspace/xuhan/github-repo/chemprop-master/radonpy/soft-schnet/data_polymer_scaled.pt')\n",
    "train_idx = np.load('/mnt/workspace/xuhan/github-repo/chemprop-master/radonpy/soft-schnet/train_id.npy')\n",
    "test_idx = np.load('/mnt/workspace/xuhan/github-repo/chemprop-master/radonpy/soft-schnet/test_id.npy')\n",
    "\n",
    "train_data = Subset(data, train_idx)\n",
    "valid_data = Subset(data, train_idx)\n",
    "test_data = Subset(data, test_idx)\n",
    "\n",
    "device = 'cuda:0'\n",
    "\n",
    "# Define model, loss, and evaluation\n",
    "model = SchNet(energy_and_force=False, cutoff=5.0, \n",
    "               num_layers=6, hidden_channels=128, \n",
    "               out_channels=1, \n",
    "               num_filters=128, num_gaussians=50)\n",
    "loss_func = torch.nn.L1Loss()\n",
    "evaluation = ThreeDEvaluator()"
   ]
  },
  {
   "cell_type": "code",
   "execution_count": 5,
   "metadata": {},
   "outputs": [],
   "source": [
    "# 证明模型是可以成功load的\n",
    "from torch_geometric.loader import DataLoader\n",
    "from tqdm import tqdm\n",
    "path = '/mnt/workspace/xuhan/github-repo/chemprop-master/radonpy/soft-schnet/qm9/valid_checkpoint.pt'\n",
    "net_para_evidential = torch.load(path, map_location='cpu')    \n",
    "    #     del net_para_evidential['model_state_dict'][\"uncertainty_f.dense.weight\"]\n",
    "    #     del net_para_evidential['model_state_dict'][\"uncertainty_f.dense.bias\"]\n",
    "model.load_state_dict(net_para_evidential['model_state_dict'])\n",
    "model = model.to(device)"
   ]
  },
  {
   "cell_type": "code",
   "execution_count": 3,
   "metadata": {},
   "outputs": [],
   "source": [
    "#使用qm9预训练后的模型进行schnet-concat的训练\n",
    "from schnet import SchNet\n",
    "data = torch.load('/mnt/workspace/xuhan/github-repo/chemprop-master/radonpy/soft-schnet/data_polymer_scaled.pt')\n",
    "train_idx = np.load('/mnt/workspace/xuhan/github-repo/chemprop-master/radonpy/soft-schnet/train_id.npy')\n",
    "test_idx = np.load('/mnt/workspace/xuhan/github-repo/chemprop-master/radonpy/soft-schnet/test_id.npy')\n",
    "\n",
    "train_data = Subset(data, train_idx)\n",
    "valid_data = Subset(data, train_idx)\n",
    "test_data = Subset(data, test_idx)\n",
    "\n",
    "device = 'cuda:0'\n",
    "\n",
    "# Define model, loss, and evaluation\n",
    "model = SchNet(energy_and_force=False, cutoff=5.0, \n",
    "               num_layers=6, hidden_channels=128, \n",
    "               out_channels=7, \n",
    "               num_filters=128, num_gaussians=50)\n",
    "loss_func = torch.nn.L1Loss()\n",
    "evaluation = ThreeDEvaluator()\n"
   ]
  },
  {
   "cell_type": "code",
   "execution_count": 6,
   "metadata": {},
   "outputs": [
    {
     "data": {
      "text/plain": [
       "<All keys matched successfully>"
      ]
     },
     "execution_count": 6,
     "metadata": {},
     "output_type": "execute_result"
    }
   ],
   "source": [
    "model_dict = model.state_dict()\n",
    "pretrained_dict = torch.load('/mnt/workspace/xuhan/github-repo/chemprop-master/radonpy/soft-schnet/qm9/valid_checkpoint.pt')['model_state_dict']\n",
    "\n",
    "pretrained_dict = {k: v for k, v in pretrained_dict.items() if k in model_dict}\n",
    "# del pretrained_dict[\"update_u.lin1.weight\"]\n",
    "del pretrained_dict[\"update_u.lin2.weight\"]\n",
    "del pretrained_dict[\"update_u.lin2.bias\"]\n",
    "\n",
    "model_dict.update(pretrained_dict)\n",
    "model.load_state_dict(model_dict)"
   ]
  },
  {
   "cell_type": "code",
   "execution_count": null,
   "metadata": {},
   "outputs": [],
   "source": [
    "# Train and evaluate\n",
    "import logging\n",
    "import time\n",
    "\n",
    "if  __name__ == '__main__':\n",
    "    logger = logging.getLogger()\n",
    "    time = time.asctime()\n",
    "    logger.setLevel(logging.INFO)   # 设置打印级别\n",
    "    formatter = logging.Formatter('%(asctime)s %(filename)s %(funcName)s [line:%(lineno)d] %(levelname)s %(message)s')\n",
    "    sh = logging.StreamHandler()\n",
    "    sh.setFormatter(formatter)\n",
    "    logger.addHandler(sh)\n",
    "    fh = logging.FileHandler(f\"debug \"+time+\".log\", encoding='utf8')\n",
    "    fh.setFormatter(formatter)\n",
    "    logger.addHandler(fh)\n",
    "    logging.info('Start print log......')\n",
    "\n",
    "run3d = run()\n",
    "run3d.run(device, train_data, valid_data, test_data, model, loss_func, evaluation,\n",
    "          epochs=2000, batch_size=1, vt_batch_size=1, lr=0.0005,\n",
    "          lr_decay_factor=0.5, lr_decay_step_size=300, softnet=False, \n",
    "          save_dir='./schnet-concat/transfer/'\n",
    "          )"
   ]
  }
 ],
 "metadata": {
  "kernelspec": {
   "display_name": "base",
   "language": "python",
   "name": "python3"
  },
  "language_info": {
   "codemirror_mode": {
    "name": "ipython",
    "version": 3
   },
   "file_extension": ".py",
   "mimetype": "text/x-python",
   "name": "python",
   "nbconvert_exporter": "python",
   "pygments_lexer": "ipython3",
   "version": "3.9.15"
  },
  "orig_nbformat": 4
 },
 "nbformat": 4,
 "nbformat_minor": 2
}
