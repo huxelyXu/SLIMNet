{
 "cells": [
  {
   "cell_type": "code",
   "execution_count": 1,
   "id": "74562cf3-8500-466b-80f7-f3678f81325e",
   "metadata": {
    "execution": {
     "iopub.execute_input": "2023-08-31T08:02:46.965977Z",
     "iopub.status.busy": "2023-08-31T08:02:46.965663Z",
     "iopub.status.idle": "2023-08-31T08:02:48.308604Z",
     "shell.execute_reply": "2023-08-31T08:02:48.308083Z",
     "shell.execute_reply.started": "2023-08-31T08:02:46.965953Z"
    }
   },
   "outputs": [],
   "source": [
    "import matplotlib.pyplot as plt\n",
    "import numpy as np\n",
    "import pandas \n",
    "import seaborn"
   ]
  },
  {
   "cell_type": "code",
   "execution_count": null,
   "id": "1f787f4e-7491-47d5-b517-220b470413b9",
   "metadata": {},
   "outputs": [],
   "source": [
    "x01 = [0.29676, 0.29994, 0.30945, 0.31712, 0.30676]\n",
    "x001 = [0.28629, 0.29608, 0.29758, 0.29820, 0.29942]\n",
    "x00001 = [0.29790, 0.30055, ]"
   ]
  }
 ],
 "metadata": {
  "kernelspec": {
   "display_name": "Python 3 (ipykernel)",
   "language": "python",
   "name": "python3"
  },
  "language_info": {
   "codemirror_mode": {
    "name": "ipython",
    "version": 3
   },
   "file_extension": ".py",
   "mimetype": "text/x-python",
   "name": "python",
   "nbconvert_exporter": "python",
   "pygments_lexer": "ipython3",
   "version": "3.9.15"
  }
 },
 "nbformat": 4,
 "nbformat_minor": 5
}
