{
 "cells": [
  {
   "cell_type": "markdown",
   "metadata": {},
   "source": [
    "## Data processed"
   ]
  },
  {
   "cell_type": "code",
   "execution_count": 1,
   "metadata": {
    "ExecuteTime": {
     "end_time": "2023-11-29T08:17:30.471054Z",
     "start_time": "2023-11-29T08:17:29.341673Z"
    },
    "ExecutionIndicator": {
     "show": true
    },
    "execution": {
     "iopub.execute_input": "2023-09-22T08:10:14.104727Z",
     "iopub.status.busy": "2023-09-22T08:10:14.104291Z",
     "iopub.status.idle": "2023-09-22T08:10:14.116274Z",
     "shell.execute_reply": "2023-09-22T08:10:14.115805Z",
     "shell.execute_reply.started": "2023-09-22T08:10:14.104705Z"
    },
    "tags": []
   },
   "outputs": [],
   "source": [
    "import pandas as pd\n",
    "from rdkit import Chem\n",
    "from rdkit.Chem import MACCSkeys\n",
    "import numpy as np\n",
    "import torch\n",
    "import torch.nn as nn\n",
    "import torch.utils\n",
    "from sklearn.model_selection import train_test_split\n",
    "from torch.optim.lr_scheduler import StepLR\n",
    "import torch.nn.functional as F\n",
    "from tqdm import tqdm\n",
    "import os\n",
    "from sklearn.model_selection import cross_val_score\n",
    "from sklearn.ensemble import RandomForestRegressor\n",
    "from sklearn.preprocessing import StandardScaler\n",
    "from sklearn.pipeline import Pipeline\n",
    "from sklearn.ensemble import RandomForestRegressor\n",
    "from sklearn.decomposition import PCA\n",
    "\n",
    "from sklearn.metrics import mean_squared_error\n",
    "from sklearn.metrics import mean_absolute_error\n",
    "from sklearn.metrics import r2_score\n",
    "from SLIMNet import SLIMNet, train_SLIMNet, GetLoader\n",
    "import matplotlib.pyplot as plt\n",
    "import seaborn as sns\n",
    "from matplotlib.offsetbox import AnchoredText\n",
    "\n",
    "def plot_parity(y_true, y_pred, name, dpi_num, y_pred_unc=None):\n",
    "    axmin = min(min(y_true), min(y_pred)) - 0.1*(max(y_true)-min(y_true))\n",
    "    axmax = max(max(y_true), max(y_pred)) + 0.1*(max(y_true)-min(y_true))\n",
    "    mae = mean_absolute_error(y_true, y_pred)\n",
    "    rmse = mean_squared_error(y_true, y_pred, squared=False)\n",
    "    r2 = r2_score(y_true, y_pred)\n",
    "    sns.set()\n",
    "    plt.plot([axmin, axmax], [axmin, axmax], '--k')\n",
    "\n",
    "    plt.errorbar(y_true, y_pred, yerr=y_pred_unc, linewidth=0, marker='o', markeredgecolor='w', c = 'cornflowerblue', alpha=1, elinewidth=1)\n",
    "    plt.xlim((axmin, axmax))\n",
    "    plt.ylim((axmin, axmax))\n",
    "    ax = plt.gca()\n",
    "    ax.set_aspect('equal')\n",
    "\n",
    "    at = AnchoredText(\n",
    "        f\"MAE = {mae:.3f}\\nRMSE = {rmse:.3f}\\nR^2 = {r2:.3f}\", prop=dict(size=10), frameon=True, loc='upper left')\n",
    "    at.patch.set_boxstyle(\"round,pad=0.,rounding_size=0.2\")\n",
    "    ax.add_artist(at)\n",
    "    plt.xlabel('Ground-Truth')\n",
    "    plt.ylabel('Predicted')\n",
    "    plt.savefig(f'{name}.png', dpi = dpi_num)\n",
    "\n",
    "    plt.show()\n",
    "    return\n",
    "\n",
    "\n",
    "def plot_comp(y_t, y_p, name, dpi_num, num = 4, y_pred_unc=None):\n",
    "    \n",
    "    plt.figure(figsize=(9, 9))\n",
    "    sns.set(style='ticks')\n",
    "    color = ['#2878b5', '#9ac9db', '#f8ac8c', '#c82423']\n",
    "    # color = ['#8ECFC9' ,'#FFBE7A', '#FA7F6F', '#82B0D2']\n",
    "    # color = ['#A1A9D0','#F0988C','#B883D4','#9E9E9E']\n",
    "    # color = ['#F27970','#BB9727','#54B345' ,'#32B897']\n",
    "    color = ['#db3124', '#ffdf92', '#90bee0', '#4b74b2']\n",
    "    for i in range(num):\n",
    "        plt.subplot(2, 2 ,i+1)\n",
    "        y_true = y_t[:, i]\n",
    "        y_pred = y_p[:, i]\n",
    "        axmin = min(min(y_true), min(y_pred)) - 0.1*(max(y_true)-min(y_true))\n",
    "        axmax = max(max(y_true), max(y_pred)) + 0.1*(max(y_true)-min(y_true))\n",
    "        mae = mean_absolute_error(y_true, y_pred)\n",
    "        rmse = mean_squared_error(y_true, y_pred, squared=False)\n",
    "        r2 = r2_score(y_true, y_pred)\n",
    "        plt.plot([axmin, axmax], [axmin, axmax], '--k')\n",
    "        plt.errorbar(y_true, y_pred, yerr=y_pred_unc, linewidth=0, marker='o', markeredgecolor='w', c = color[i], alpha=1, elinewidth=1)\n",
    "        plt.xlim((axmin, axmax))\n",
    "        plt.ylim((axmin, axmax))\n",
    "        ax = plt.gca()\n",
    "        ax.set_aspect('equal')\n",
    "        at = AnchoredText(\n",
    "        f\"MAE = {mae:.3f}\\nRMSE = {rmse:.3f}\\nR^2 = {r2:.3f}\", prop=dict(size=10), frameon=True, loc='upper left')\n",
    "        at.patch.set_boxstyle(\"round,pad=0.,rounding_size=0.2\")\n",
    "        ax.add_artist(at)\n",
    "        plt.xlabel(f'Ground-Truth of {i}')\n",
    "        plt.ylabel(f'Predicted {i}')\n",
    "        sns.despine()\n",
    "\n",
    "    plt.savefig(f'{name}.png', dpi = dpi_num)\n",
    "    plt.show()\n"
   ]
  },
  {
   "cell_type": "code",
   "execution_count": 2,
   "metadata": {
    "ExecuteTime": {
     "end_time": "2023-11-29T08:17:33.168752Z",
     "start_time": "2023-11-29T08:17:32.495822Z"
    },
    "execution": {
     "iopub.execute_input": "2023-09-22T07:47:31.672160Z",
     "iopub.status.busy": "2023-09-22T07:47:31.671338Z",
     "iopub.status.idle": "2023-09-22T07:47:32.464758Z",
     "shell.execute_reply": "2023-09-22T07:47:32.463600Z",
     "shell.execute_reply.started": "2023-09-22T07:47:31.672130Z"
    },
    "tags": []
   },
   "outputs": [],
   "source": [
    "data = pd.read_csv('PI1070.csv')\n",
    "data = data.fillna(0)\n",
    "maccs = []\n",
    "\n",
    "for i in data['smiles']:\n",
    "    molecule = Chem.MolFromSmiles(i) \n",
    "    fingerprints = MACCSkeys.GenMACCSKeys(molecule)\n",
    "    maccs.append(list(fingerprints.ToBitString()))\n",
    "    \n",
    "X0 = np.array(maccs).astype('int') # (1077, 167)\n",
    "X1 = np.array(data['mol_weight_monomer']).reshape(-1,1) #(1077, 1)\n",
    "X2 = np.array(data['vdw_volume_monomer']).reshape(-1,1) #(1077, 1)\n",
    "X3 = np.array(data['qm_total_energy_monomer']).reshape(-1,1) #(1077, 1)\n",
    "X4 = np.array(data['qm_homo_monomer']).reshape(-1,1) #(1077, 1)\n",
    "X5 = np.array(data['qm_lumo_monomer']).reshape(-1,1) #(1077, 1)\n",
    "X6 = np.array(data['qm_dipole_monomer']).reshape(-1,1) #(1077, 1)\n",
    "X7 = np.array(data['qm_polarizability_monomer']).reshape(-1,1) #(1077, 1)\n",
    "X8 = np.array(data['DP']).reshape(-1,1) #(1077, 1)  \n",
    "X9 = np.array(data['Mn']).reshape(-1,1) #(1077, 1)\n",
    "X10 = np.array(data['density']).reshape(-1,1) #(1077, 1)\n",
    "X11 = np.array(data['compressibility']).reshape(-1,1) #(1077, 1)\n",
    "X12 = np.array(data['static_dielectric_const']).reshape(-1,1) #(1077, 1)\n",
    "X13 = np.array(data['nematic_order_parameter']).reshape(-1,1) #(1077, 1)\n",
    "\n",
    "y0 = np.array(data['thermal_conductivity']).reshape(-1,1)\n",
    "y1 = np.array(data['thermal_diffusivity']).reshape(-1,1) #(1077, 1)\n",
    "y2 = np.array(data['dielectric_const_dc']).reshape(-1,1) #(1077, 1)\n",
    "y3 = np.array(data['volume_expansion']).reshape(-1,1) #(1077, 1)\n",
    "\n",
    "y = np.concatenate((y0, y1, y2, y3), axis=1)\n",
    "X = np.concatenate((X0, X1, X2, X3, X4, X5, X6, X7, X8, X9, X10, X11, X12, X13), axis=1)\n",
    "\n"
   ]
  },
  {
   "cell_type": "code",
   "execution_count": 17,
   "metadata": {
    "collapsed": false,
    "execution": {
     "iopub.execute_input": "2023-08-31T07:54:45.304991Z",
     "iopub.status.busy": "2023-08-31T07:54:45.304565Z",
     "iopub.status.idle": "2023-08-31T07:54:45.307301Z",
     "shell.execute_reply": "2023-08-31T07:54:45.306869Z",
     "shell.execute_reply.started": "2023-08-31T07:54:45.304973Z"
    }
   },
   "outputs": [
    {
     "name": "stdout",
     "output_type": "stream",
     "text": [
      "(862,)\n",
      "(215,)\n"
     ]
    }
   ],
   "source": [
    "# import numpy as np\n",
    "\n",
    "# train_id = np.random.choice(1077, 862, replace=False)\n",
    "# # train_id = np.load('train_id.npy')\n",
    "# test_id = np.setdiff1d(np.arange(1077), train_id, assume_unique=False)\n",
    "# # print(train_id)\n",
    "# print(train_id.shape)\n",
    "# # print(train_id)\n",
    "# print(test_id.shape)\n",
    "# np.save('train_id.npy', train_id)\n",
    "# np.save('test_id.npy', test_id)"
   ]
  },
  {
   "cell_type": "markdown",
   "metadata": {},
   "source": [
    "## Random Forest and MLP"
   ]
  },
  {
   "cell_type": "code",
   "execution_count": null,
   "metadata": {
    "ExecuteTime": {
     "end_time": "2023-11-29T08:17:58.273512Z",
     "start_time": "2023-11-29T08:17:54.425145Z"
    },
    "ExecutionIndicator": {
     "show": true
    },
    "execution": {
     "iopub.execute_input": "2023-09-22T07:52:17.599130Z",
     "iopub.status.busy": "2023-09-22T07:52:17.598815Z",
     "iopub.status.idle": "2023-09-22T07:52:20.978879Z",
     "shell.execute_reply": "2023-09-22T07:52:20.978300Z",
     "shell.execute_reply.started": "2023-09-22T07:52:17.599110Z"
    },
    "tags": []
   },
   "outputs": [],
   "source": [
    "from sklearn.neural_network import MLPRegressor\n",
    "regressor = RandomForestRegressor(n_estimators=2,random_state=42)\n",
    "regressor = MLPRegressor()\n",
    "scalar = StandardScaler()\n",
    "\n",
    "X = scalar.fit_transform(X)\n",
    "y = scalar.fit_transform(y)\n",
    "# prop= 3\n",
    "# X_train, X_test, y_train, y_test = train_test_split(X, y, test_size=0.1, random_state=42, shuffle=False)\n",
    "\n",
    "train_id = np.load('best_pt/train_id.npy')\n",
    "test_id = np.load('best_pt/test_id.npy')\n",
    "\n",
    "X_train, X_test = X[train_id], X[test_id]\n",
    "y_train, y_test = y[train_id], y[test_id]\n",
    "\n",
    "pipe = Pipeline([\n",
    "    #('scaler', StandardScaler()), \n",
    "    #('reduce_dim', PCA()),\n",
    "    ('regressor', regressor)\n",
    "    ])\n",
    "pipe.fit(X_train, y_train)\n",
    "y_predict = pipe.predict(X_test)\n",
    "print(f'MSE: {mean_squared_error(y_test,y_predict)}')\n",
    "print(f'MAE: {mean_absolute_error(y_test,y_predict)}')\n",
    "print(f'R2: {r2_score(y_test,y_predict)}')\n",
    "plot_comp(y_test,y_predict,'RFtest', 700)"
   ]
  },
  {
   "cell_type": "markdown",
   "metadata": {},
   "source": [
    "## Test code on checkpoint of SLIMNet "
   ]
  },
  {
   "cell_type": "code",
   "execution_count": null,
   "metadata": {
    "ExecuteTime": {
     "end_time": "2023-11-29T08:08:03.393746Z",
     "start_time": "2023-11-29T08:07:58.122609Z"
    },
    "ExecutionIndicator": {
     "show": true
    },
    "execution": {
     "iopub.execute_input": "2023-09-22T08:10:20.113103Z",
     "iopub.status.busy": "2023-09-22T08:10:20.112662Z",
     "iopub.status.idle": "2023-09-22T08:10:24.309893Z",
     "shell.execute_reply": "2023-09-22T08:10:24.309282Z",
     "shell.execute_reply.started": "2023-09-22T08:10:20.113084Z"
    },
    "tags": []
   },
   "outputs": [],
   "source": [
    "out=4\n",
    "model = SLIMNet(out)\n",
    "scalar = StandardScaler()\n",
    "X = scalar.fit_transform(X)\n",
    "y = scalar.fit_transform(y)\n",
    "# prop= 3\n",
    "# X_train, X_test, y_train, y_test = train_test_split(X, y, test_size=0.1, random_state=42, shuffle=False)\n",
    "\n",
    "train_id = np.load('best_pt/ab03/train_id.npy')\n",
    "test_id = np.load('best_pt/ab03/test_id.npy')\n",
    "\n",
    "X_train, X_test = X[train_id], X[test_id]\n",
    "y_train, y_test = y[train_id], y[test_id]\n",
    "mae = []\n",
    "rmse = []\n",
    "r2 = []\n",
    "\n",
    "for i in [1000, 900, 800, 750, 600, 500]:\n",
    "\n",
    "    path = f'/root/xuhan/github-repo/randonpy/slim_maccs/ab_softnet-test-{i}_3.pt'\n",
    "    net_para_evidential = torch.load(path, map_location='cpu')\n",
    "    model.load_state_dict(net_para_evidential['model_state_dict'])\n",
    "    # model.load_state_dict(torch.load(\"swa_model.pt\"))\n",
    "    model.eval()\n",
    "    print(torch.tensor(X_test).shape)\n",
    "\n",
    "    monomer_prop, scal, alpha, chain_order = model(torch.tensor(X_test).float())\n",
    "    beta = scal[:, :out]\n",
    "    gamma = scal[:, out:]\n",
    "    mid = torch.pow(gamma, beta)\n",
    "    prop_guass = torch.mul(alpha, mid)\n",
    "    polymer_prop = chain_order + prop_guass\n",
    "    y_predict_softnet = polymer_prop.detach().numpy()\n",
    "    #y_test = np.mean(y_test, axis=-1).reshape(-1,1)\n",
    "\n",
    "    # print(f'MSE: {mean_squared_error(y_test, y_predict_softnet)}')\n",
    "    # print(f'MAE: {mean_absolute_error(y_test, y_predict_softnet)}')\n",
    "    # print(f'R2: {r2_score(y_test, y_predict_softnet)}')\n",
    "\n",
    "    mae.append(mean_squared_error(y_test, y_predict_softnet))\n",
    "    rmse.append(mean_absolute_error(y_test, y_predict_softnet))\n",
    "    r2.append(r2_score(y_test, y_predict_softnet))\n",
    "\n",
    "#plot_comp(np.mean(y_test),y_predict_softnet,'softnet_test', 1000)\n"
   ]
  }
 ],
 "metadata": {
  "kernelspec": {
   "display_name": "Python 3 (ipykernel)",
   "language": "python",
   "name": "python3"
  },
  "language_info": {
   "codemirror_mode": {
    "name": "ipython",
    "version": 3
   },
   "file_extension": ".py",
   "mimetype": "text/x-python",
   "name": "python",
   "nbconvert_exporter": "python",
   "pygments_lexer": "ipython3",
   "version": "3.12.3"
  },
  "vscode": {
   "interpreter": {
    "hash": "365e1880e3d05485ea42959a9ffdac610231da4601441c6b06c61a7d87bfbb67"
   }
  }
 },
 "nbformat": 4,
 "nbformat_minor": 4
}
